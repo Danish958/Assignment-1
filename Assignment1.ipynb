{
 "cells": [
  {
   "cell_type": "code",
   "execution_count": 3,
   "id": "f8c8aa86-5874-4a20-a49c-917776e105c7",
   "metadata": {
    "collapsed": true,
    "jupyter": {
     "outputs_hidden": true
    },
    "tags": []
   },
   "outputs": [
    {
     "name": "stdout",
     "output_type": "stream",
     "text": [
      "After swapping:\n",
      "x = 10\n",
      "y = 5\n"
     ]
    }
   ],
   "source": [
    "x = 5\n",
    "y=10\n",
    "\n",
    "x = x + y\n",
    "y = x - y\n",
    "x = x - y\n",
    "\n",
    "\n",
    "print(\"After swapping:\")\n",
    "print(\"x =\", x)\n",
    "print(\"y =\", y)\n"
   ]
  },
  {
   "cell_type": "code",
   "execution_count": 4,
   "id": "bd730b78-6733-46fb-ae39-7d7955b9f683",
   "metadata": {
    "collapsed": true,
    "jupyter": {
     "outputs_hidden": true
    },
    "tags": []
   },
   "outputs": [
    {
     "name": "stdin",
     "output_type": "stream",
     "text": [
      "Enter the length of the rectangle:  3\n",
      "Enter the width of the rectangle:  4\n"
     ]
    },
    {
     "name": "stdout",
     "output_type": "stream",
     "text": [
      "The area of the rectangle is: 12.0\n"
     ]
    }
   ],
   "source": [
    "length = float(input(\"Enter the length of the rectangle: \"))\n",
    "width = float(input(\"Enter the width of the rectangle: \"))\n",
    "\n",
    "\n",
    "area = length * width\n",
    "\n",
    "\n",
    "print(\"The area of the rectangle is:\", area)\n"
   ]
  },
  {
   "cell_type": "code",
   "execution_count": 5,
   "id": "51b9ec6b-5221-456f-8993-0c2b4da5245e",
   "metadata": {
    "collapsed": true,
    "jupyter": {
     "outputs_hidden": true
    },
    "tags": []
   },
   "outputs": [
    {
     "name": "stdin",
     "output_type": "stream",
     "text": [
      "Enter temperature in Celsius:  92\n"
     ]
    },
    {
     "name": "stdout",
     "output_type": "stream",
     "text": [
      "92.0 degrees Celsius is equal to 197.6 degrees Fahrenheit.\n"
     ]
    }
   ],
   "source": [
    "celsius_temperature = float(input(\"Enter temperature in Celsius: \"))\n",
    "\n",
    "fahrenheit_temperature = (celsius_temperature * 9/5) + 32\n",
    "\n",
    "print(f\"{celsius_temperature} degrees Celsius is equal to {fahrenheit_temperature} degrees Fahrenheit.\")\n"
   ]
  },
  {
   "cell_type": "code",
   "execution_count": 6,
   "id": "8ff3373d-79b9-48f2-984b-9dd5d68a99e0",
   "metadata": {},
   "outputs": [
    {
     "name": "stdin",
     "output_type": "stream",
     "text": [
      "Enter a string:  Danish Chauhan\n"
     ]
    },
    {
     "name": "stdout",
     "output_type": "stream",
     "text": [
      "The length of the string is: 14\n"
     ]
    }
   ],
   "source": [
    "user_input = input(\"Enter a string: \")\n",
    "\n",
    "\n",
    "string_length = len(user_input)\n",
    "print(f\"The length of the string is: {string_length}\")\n"
   ]
  },
  {
   "cell_type": "code",
   "execution_count": 7,
   "id": "47bff623-5c86-47cd-bf84-ea192f6987b1",
   "metadata": {},
   "outputs": [
    {
     "name": "stdin",
     "output_type": "stream",
     "text": [
      "Enter a sentence:  Danish Chauhan\n"
     ]
    },
    {
     "name": "stdout",
     "output_type": "stream",
     "text": [
      "Number of vowels in the sentence: 5\n"
     ]
    }
   ],
   "source": [
    "sentence = input(\"Enter a sentence: \")\n",
    "vowel_count = 0\n",
    "for char in sentence:\n",
    "   \n",
    "    if char.lower() in ['a', 'e', 'i', 'o', 'u']:\n",
    "        vowel_count += 1\n",
    "\n",
    "\n",
    "print(f\"Number of vowels in the sentence: {vowel_count}\")\n"
   ]
  },
  {
   "cell_type": "code",
   "execution_count": 9,
   "id": "57c96273-202e-4225-b5b7-43ca092723ae",
   "metadata": {},
   "outputs": [
    {
     "name": "stdout",
     "output_type": "stream",
     "text": [
      "nahuahC hsinaD\n"
     ]
    }
   ],
   "source": [
    "original_string = \"Danish Chauhan\"\n",
    "\n",
    "reversed_string = original_string[::-1]\n",
    "\n",
    "print(reversed_string)\n"
   ]
  },
  {
   "cell_type": "code",
   "execution_count": 10,
   "id": "0be9ebb0-aa4b-4b95-9e47-c9dcde43efb4",
   "metadata": {},
   "outputs": [
    {
     "name": "stdin",
     "output_type": "stream",
     "text": [
      "Enter a string:  Danish\n"
     ]
    },
    {
     "name": "stdout",
     "output_type": "stream",
     "text": [
      "The entered string is not a palindrome.\n"
     ]
    }
   ],
   "source": [
    "input_str = input(\"Enter a string: \")\n",
    "\n",
    "cleaned_str = ''.join(input_str.split()).lower()\n",
    "\n",
    "palindrome = cleaned_str == cleaned_str[::-1]\n",
    "\n",
    "# Output the result\n",
    "if palindrome:\n",
    "    print(\"The entered string is a palindrome.\")\n",
    "else:\n",
    "    print(\"The entered string is not a palindrome.\")\n"
   ]
  },
  {
   "cell_type": "code",
   "execution_count": null,
   "id": "510caad8-9832-49f7-8a3e-fbdcd4debcdd",
   "metadata": {},
   "outputs": [],
   "source": [
    "# Take input from the user\n",
    "input_string = input(\"Enter a string: \")\n",
    "\n",
    "# Remove spaces using split and join\n",
    "modified_string = ''.join(input_string.split())\n",
    "\n",
    "# Print the modified string\n",
    "print(\"Modified string without spaces:\", modified_string)\n"
   ]
  }
 ],
 "metadata": {
  "kernelspec": {
   "display_name": "Python 3 (ipykernel)",
   "language": "python",
   "name": "python3"
  },
  "language_info": {
   "codemirror_mode": {
    "name": "ipython",
    "version": 3
   },
   "file_extension": ".py",
   "mimetype": "text/x-python",
   "name": "python",
   "nbconvert_exporter": "python",
   "pygments_lexer": "ipython3",
   "version": "3.10.8"
  }
 },
 "nbformat": 4,
 "nbformat_minor": 5
}
